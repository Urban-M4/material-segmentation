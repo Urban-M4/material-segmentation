{
 "cells": [
  {
   "cell_type": "markdown",
   "metadata": {},
   "source": [
    "# Generic pipeline for segmentation tests\n",
    "\n",
    "We will use some pretrained models to test their semantic segmentation performance."
   ]
  },
  {
   "cell_type": "code",
   "execution_count": 47,
   "metadata": {},
   "outputs": [],
   "source": [
    "# --------------------------------------\n",
    "from transformers import SegformerFeatureExtractor\n",
    "from transformers import SegformerForSemanticSegmentation\n",
    "\n",
    "# --------------------------------------\n",
    "import torchvision as tvi\n",
    "\n",
    "# --------------------------------------\n",
    "import torch as pt\n",
    "import torch.nn.functional as F\n",
    "\n",
    "# --------------------------------------\n",
    "from PIL import Image\n",
    "\n",
    "# --------------------------------------\n",
    "import requests\n",
    "\n",
    "# --------------------------------------\n",
    "import numpy as np\n",
    "\n",
    "# --------------------------------------\n",
    "import matplotlib.pyplot as plt\n",
    "\n",
    "# --------------------------------------\n",
    "from rsms import conf"
   ]
  },
  {
   "cell_type": "markdown",
   "metadata": {},
   "source": [
    "Download some pretrained models."
   ]
  },
  {
   "cell_type": "code",
   "execution_count": null,
   "metadata": {},
   "outputs": [],
   "source": [
    "# SegFormer fine-tuned on ADE20K\n",
    "# ==================================================\n",
    "feature_extractor = SegformerFeatureExtractor.from_pretrained(\"nvidia/segformer-b2-finetuned-ade-512-512\")\n",
    "model = SegformerForSemanticSegmentation.from_pretrained(\"nvidia/segformer-b2-finetuned-ade-512-512\")\n",
    "\n",
    "# SegFormer fine-tuned on Cityscapes\n",
    "# ==================================================\n",
    "feature_extractor = SegformerFeatureExtractor.from_pretrained(\n",
    "    \"nvidia/segformer-b2-finetuned-cityscapes-1024-1024\"\n",
    ")\n",
    "model = SegformerForSemanticSegmentation.from_pretrained(\n",
    "    \"nvidia/segformer-b2-finetuned-cityscapes-1024-1024\"\n",
    ")\n",
    "\n",
    "# Switch to inference mode\n",
    "model.eval()"
   ]
  },
  {
   "cell_type": "code",
   "execution_count": 49,
   "metadata": {},
   "outputs": [],
   "source": [
    "# Cats\n",
    "# ==================================================\n",
    "# image = np.array(Image.open(requests.get(\"http://images.cocodataset.org/val2017/000000039769.jpg\", stream=True).raw))\n",
    "\n",
    "# Building with bricks\n",
    "# ==================================================\n",
    "# image = np.array(Image.open(conf.DATA_DIR / \"concrete.jpeg\"))\n",
    "\n",
    "# Building with bricks\n",
    "# ==================================================\n",
    "image = np.array(Image.open(conf.DATA_DIR / \"bricks.jpeg\"))"
   ]
  },
  {
   "cell_type": "markdown",
   "metadata": {},
   "source": [
    "Extract the input features and the class probabilities"
   ]
  },
  {
   "cell_type": "code",
   "execution_count": 50,
   "metadata": {},
   "outputs": [],
   "source": [
    "inputs = feature_extractor(images=image, return_tensors=\"pt\")\n",
    "outputs = model(**inputs)\n",
    "logits = F.interpolate(\n",
    "    outputs.logits, image.shape[:2], mode=\"bilinear\", align_corners=True\n",
    ")"
   ]
  },
  {
   "cell_type": "markdown",
   "metadata": {},
   "source": [
    "Extract the most probable class for each pixel"
   ]
  },
  {
   "cell_type": "code",
   "execution_count": null,
   "metadata": {},
   "outputs": [],
   "source": [
    "classes = pt.argmax(logits[0], axis=0)\n",
    "classes.shape"
   ]
  },
  {
   "cell_type": "markdown",
   "metadata": {},
   "source": [
    "Add an alpha channel to the image so that we can overlay the segmentation results and still be able to see the original image."
   ]
  },
  {
   "cell_type": "code",
   "execution_count": null,
   "metadata": {},
   "outputs": [],
   "source": [
    "image_opacity = 192\n",
    "opacity = np.full_like(image[:, :, 0], image_opacity)[:, :, None]\n",
    "image_with_opacity = np.concatenate((image, opacity), axis=-1)\n",
    "plt.imshow(image_with_opacity)"
   ]
  },
  {
   "cell_type": "markdown",
   "metadata": {},
   "source": [
    "Assign a random colour to each class"
   ]
  },
  {
   "cell_type": "code",
   "execution_count": 53,
   "metadata": {},
   "outputs": [],
   "source": [
    "colours = {}\n",
    "for cls in classes.unique():\n",
    "    colours[cls] = np.random.randint(0,255, (4,), dtype=np.uint8)\n",
    "    colours[cls][3] = 255 - image_opacity\n",
    "    idx = classes==cls\n",
    "    image_with_opacity[idx] = (image_with_opacity[idx] + colours[cls])"
   ]
  },
  {
   "cell_type": "markdown",
   "metadata": {},
   "source": [
    "Show the segmentation results"
   ]
  },
  {
   "cell_type": "code",
   "execution_count": null,
   "metadata": {},
   "outputs": [],
   "source": [
    "plt.imshow(image_with_opacity)"
   ]
  }
 ],
 "metadata": {
  "kernelspec": {
   "display_name": "rsms",
   "language": "python",
   "name": "python3"
  },
  "language_info": {
   "codemirror_mode": {
    "name": "ipython",
    "version": 3
   },
   "file_extension": ".py",
   "mimetype": "text/x-python",
   "name": "python",
   "nbconvert_exporter": "python",
   "pygments_lexer": "ipython3",
   "version": "3.12.7"
  }
 },
 "nbformat": 4,
 "nbformat_minor": 2
}
