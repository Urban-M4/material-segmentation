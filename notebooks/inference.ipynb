{
 "cells": [
  {
   "cell_type": "markdown",
   "metadata": {},
   "source": [
    "# RGB Road Scene Material Segmentation\n",
    "\n",
    "This notebook shows an example of running the RMSNet as described here:\n",
    "\n",
    "https://github.com/kyotovision-public/RGB-Road-Scene-Material-Segmentation/"
   ]
  },
  {
   "cell_type": "code",
   "execution_count": 1,
   "metadata": {},
   "outputs": [],
   "source": [
    "# --------------------------------------\n",
    "import torch as pt\n",
    "\n",
    "# --------------------------------------\n",
    "import numpy as np\n",
    "\n",
    "# --------------------------------------\n",
    "import matplotlib.pyplot as plt\n",
    "\n",
    "# --------------------------------------\n",
    "from PIL import Image\n",
    "\n",
    "# --------------------------------------\n",
    "from dataclasses import dataclass\n",
    "\n",
    "# --------------------------------------\n",
    "import torchvision as tv\n",
    "\n",
    "# --------------------------------------\n",
    "from rsms.modeling.rmsnet.rmsnet import RMSNet\n",
    "from rsms.dataloaders import make_data_loader\n",
    "from rsms.dataloaders.utils import decode_segmap\n",
    "from rsms import conf"
   ]
  },
  {
   "cell_type": "markdown",
   "metadata": {},
   "source": [
    "Model parameters (should be cleaned up)"
   ]
  },
  {
   "cell_type": "code",
   "execution_count": 2,
   "metadata": {},
   "outputs": [],
   "source": [
    "@dataclass\n",
    "class Args:\n",
    "    positional_encoding = False\n",
    "    lr = 0\n",
    "    workers = 1\n",
    "    epochs = 1\n",
    "    batch_size = 1\n",
    "    batch_size_val = 8\n",
    "    gpu_ids = \"0\"\n",
    "    backbone = \"mit_b2\"  #\n",
    "    checkname = \"new\"\n",
    "    eval_interval = 1\n",
    "    loss_type = \"ce\"\n",
    "    dataset = \"kitti_advanced\"\n",
    "    propagation = 0  # int value\n",
    "    sync_bn = False  # True\n",
    "    list_folder = \"list_folder2\"  # split-1: list_folder1; split-2: list_folder2\n",
    "    lr_scheduler = \"cos\"  # choices=['poly', 'step', 'cos']\n",
    "    use_balanced_weights = False\n",
    "    use_sbd = False\n",
    "    base_size = 512\n",
    "    crop_size = 512\n",
    "n_classes = 20\n",
    "freeze_bn = False\n",
    "\n",
    "args = Args()"
   ]
  },
  {
   "cell_type": "code",
   "execution_count": null,
   "metadata": {},
   "outputs": [],
   "source": [
    "# Define network\n",
    "rms = RMSNet(\n",
    "    num_classes=n_classes,\n",
    "    backbone=\"segformer\",\n",
    "    encoder_id=2,\n",
    "    sync_bn=args.sync_bn,\n",
    "    freeze_bn=freeze_bn,\n",
    ")\n",
    "\n",
    "# Switch the model to inference mode\n",
    "rms.eval()"
   ]
  },
  {
   "cell_type": "markdown",
   "metadata": {},
   "source": [
    "# Test images"
   ]
  },
  {
   "cell_type": "code",
   "execution_count": 4,
   "metadata": {},
   "outputs": [],
   "source": [
    "# A generic building with bricks\n",
    "# ==================================================\n",
    "img_path = conf.DATA_DIR / \"bricks2.jpeg\"\n",
    "\n",
    "# An image from the KITTI Materials training set\n",
    "# ==================================================\n",
    "# img_path = (\n",
    "#     conf.DATA_DIR\n",
    "#     / \"KITTI_Materials/train/image_2/2011_09_26_drive_0002_sync_0000000025.png\"\n",
    "# )"
   ]
  },
  {
   "cell_type": "markdown",
   "metadata": {},
   "source": [
    "Open the image and show it so that we know what we are trying to segment"
   ]
  },
  {
   "cell_type": "code",
   "execution_count": null,
   "metadata": {},
   "outputs": [],
   "source": [
    "img = tv.io.read_image(img_path)\n",
    "plt.imshow(img.permute(1, 2, 0) / img.max())"
   ]
  },
  {
   "cell_type": "markdown",
   "metadata": {},
   "source": [
    "Run the image through the model"
   ]
  },
  {
   "cell_type": "code",
   "execution_count": 6,
   "metadata": {},
   "outputs": [],
   "source": [
    "with pt.no_grad():\n",
    "    out = rms(img.float()[None,:,:,:])[0].detach().clone().numpy()"
   ]
  },
  {
   "cell_type": "markdown",
   "metadata": {},
   "source": [
    "Extract the pixel classes and display the segmentation results"
   ]
  },
  {
   "cell_type": "code",
   "execution_count": null,
   "metadata": {},
   "outputs": [],
   "source": [
    "classes = np.argmax(out, axis=0)\n",
    "seg = decode_segmap(classes, dataset=\"kitti_advanced\")\n",
    "plt.imshow(seg)"
   ]
  }
 ],
 "metadata": {
  "kernelspec": {
   "display_name": "rsms",
   "language": "python",
   "name": "python3"
  },
  "language_info": {
   "codemirror_mode": {
    "name": "ipython",
    "version": 3
   },
   "file_extension": ".py",
   "mimetype": "text/x-python",
   "name": "python",
   "nbconvert_exporter": "python",
   "pygments_lexer": "ipython3",
   "version": "3.12.7"
  }
 },
 "nbformat": 4,
 "nbformat_minor": 2
}
